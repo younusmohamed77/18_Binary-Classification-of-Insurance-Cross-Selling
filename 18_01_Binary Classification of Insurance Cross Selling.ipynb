{
 "cells": [
  {
   "cell_type": "markdown",
   "id": "f8ed673f",
   "metadata": {},
   "source": [
    "# Kaggle Playground - Season 4 Episode 7\n",
    "## Binary Classification of Insurance Cross Selling\n",
    "\n",
    "Competion link - https://www.kaggle.com/competitions/playground-series-s4e7"
   ]
  },
  {
   "cell_type": "markdown",
   "id": "5bdcb38d",
   "metadata": {},
   "source": [
    "### Steps\n",
    "- Import the necessary libraries, packages and modules\n",
    "- Unzip the zipped files\n",
    "- Read the datsets as data framers"
   ]
  },
  {
   "cell_type": "code",
   "execution_count": 6,
   "id": "62d2ab1e",
   "metadata": {},
   "outputs": [],
   "source": [
    "# Import the necessary libraries, packages and modules\n",
    "\n",
    "import warnings\n",
    "warnings.filterwarnings('ignore')\n",
    "\n",
    "import dtale    # Use of a web progrm to analysis the data deeply\n",
    "import matplotlib.pyplot as plt\n",
    "import numpy as np\n",
    "import os\n",
    "import pandas as pd\n",
    "import pickle\n",
    "import seaborn as sns\n",
    "import statsmodels.api as sm\n",
    "\n",
    "from imblearn.over_sampling import RandomOverSampler\n",
    "#from pandas_profiling import ProfileReport\n",
    "from sklearn.linear_model import LogisticRegression\n",
    "from sklearn.ensemble import AdaBoostClassifier, BaggingClassifier, GradientBoostingClassifier, RandomForestClassifier\n",
    "from sklearn.metrics import accuracy_score, classification_report, confusion_matrix\n",
    "from sklearn.model_selection import cross_val_score, train_test_split\n",
    "from sklearn.neighbors import KNeighborsClassifier\n",
    "from sklearn.preprocessing import StandardScaler\n",
    "from sklearn.svm import SVC\n",
    "from sklearn.tree import DecisionTreeClassifier\n",
    "from xgboost import XGBClassifier\n",
    "\n",
    "sns.set()\n",
    "%matplotlib inline"
   ]
  },
  {
   "cell_type": "code",
   "execution_count": null,
   "id": "062e5b43",
   "metadata": {},
   "outputs": [],
   "source": []
  }
 ],
 "metadata": {
  "kernelspec": {
   "display_name": "Python 3 (ipykernel)",
   "language": "python",
   "name": "python3"
  },
  "language_info": {
   "codemirror_mode": {
    "name": "ipython",
    "version": 3
   },
   "file_extension": ".py",
   "mimetype": "text/x-python",
   "name": "python",
   "nbconvert_exporter": "python",
   "pygments_lexer": "ipython3",
   "version": "3.11.5"
  }
 },
 "nbformat": 4,
 "nbformat_minor": 5
}
